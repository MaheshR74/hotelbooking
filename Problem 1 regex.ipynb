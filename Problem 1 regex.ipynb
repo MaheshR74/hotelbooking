{
 "cells": [
  {
   "cell_type": "code",
   "execution_count": 4,
   "id": "b29b66c6",
   "metadata": {
    "ExecuteTime": {
     "end_time": "2022-08-18T02:55:55.664102Z",
     "start_time": "2022-08-18T02:55:55.638006Z"
    }
   },
   "outputs": [
    {
     "name": "stdout",
     "output_type": "stream",
     "text": [
      "[1, 2, 3, 4, 5, 6, 7, 8, 9, 10, 11, 648, 649, 650, 651, 652, 653, 3]\n"
     ]
    }
   ],
   "source": [
    "c = {\"orders\":[{\"id\":1},{\"id\":2},{\"id\":3},{\"id\":4},{\"id\":5},{\"id\":6},{\"id\":7},{\"id\":8},{\"id\":9},{\"id\":10},{\"id\":11},{\"id\":648},{\"id\":649},{\"id\":650},{\"id\":651},{\"id\":652},{\"id\":653}],\"errors\":[{\"code\":3,\"message\":\"[PHP Warning #2] count(): Parameter must be an array or an object that implements Countable (153)\"}]}\n",
    "\n",
    "m = []\n",
    "for i in c.values():\n",
    "    for j in i:\n",
    "        for k in j.values():\n",
    "            if type(k) == int:\n",
    "                m.append(k)\n",
    "print(m)"
   ]
  },
  {
   "cell_type": "code",
   "execution_count": 7,
   "id": "42a7e7eb",
   "metadata": {
    "ExecuteTime": {
     "end_time": "2022-08-18T02:59:26.092257Z",
     "start_time": "2022-08-18T02:59:26.073206Z"
    }
   },
   "outputs": [
    {
     "name": "stdout",
     "output_type": "stream",
     "text": [
      "1\n",
      "2\n",
      "3\n",
      "4\n",
      "5\n",
      "6\n",
      "7\n",
      "8\n",
      "9\n",
      "10\n",
      "11\n",
      "648\n",
      "649\n",
      "650\n",
      "651\n",
      "652\n",
      "653\n",
      "3\n"
     ]
    }
   ],
   "source": [
    "import re\n",
    "match = re.findall(r':[0-9]+','{\"orders\":[{\"id\":1},{\"id\":2},{\"id\":3},{\"id\":4},{\"id\":5},{\"id\":6},{\"id\":7},{\"id\":8},{\"id\":9},{\"id\":10},{\"id\":11},{\"id\":648},{\"id\":649},{\"id\":650},{\"id\":651},{\"id\":652},{\"id\":653}],\"errors\":[{\"code\":3,\"message\":\"[PHP Warning #2] count(): Parameter must be an array or an object that implements Countable (153)\"}]}')\n",
    "for i in range(0,len(match)):\n",
    "    print(match[i][1:])\n"
   ]
  },
  {
   "cell_type": "code",
   "execution_count": null,
   "id": "5fb0cfc7",
   "metadata": {},
   "outputs": [],
   "source": []
  }
 ],
 "metadata": {
  "kernelspec": {
   "display_name": "Python 3 (ipykernel)",
   "language": "python",
   "name": "python3"
  },
  "language_info": {
   "codemirror_mode": {
    "name": "ipython",
    "version": 3
   },
   "file_extension": ".py",
   "mimetype": "text/x-python",
   "name": "python",
   "nbconvert_exporter": "python",
   "pygments_lexer": "ipython3",
   "version": "3.9.12"
  }
 },
 "nbformat": 4,
 "nbformat_minor": 5
}
